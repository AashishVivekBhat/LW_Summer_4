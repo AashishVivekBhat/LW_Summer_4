{
 "cells": [
  {
   "cell_type": "code",
   "execution_count": null,
   "metadata": {},
   "outputs": [],
   "source": [
    "# TASK_4.3 IMAGE "
   ]
  },
  {
   "cell_type": "code",
   "execution_count": 15,
   "metadata": {},
   "outputs": [],
   "source": [
    "import numpy as np\n",
    "import cv2\n",
    "\n",
    "owl = cv2.imread(\"owl.png\")\n",
    "fox = cv2.imread(\"fox.png\")\n",
    "\n",
    "dim = (300, 300) \n",
    "r_owl = cv2.resize(owl, dim, interpolation = cv2.INTER_AREA)\n",
    "r_fox = cv2.resize(fox, dim, interpolation = cv2.INTER_AREA)\n",
    "collage = np.vstack([r_owl,r_fox])\n",
    "cv2.imshow(\"Final Collage\",collage)\n",
    "cv2.waitKey(3000)\n",
    "cv2.destroyAllWindows()"
   ]
  },
  {
   "cell_type": "code",
   "execution_count": null,
   "metadata": {},
   "outputs": [],
   "source": []
  }
 ],
 "metadata": {
  "kernelspec": {
   "display_name": "Python 3",
   "language": "python",
   "name": "python3"
  },
  "language_info": {
   "codemirror_mode": {
    "name": "ipython",
    "version": 3
   },
   "file_extension": ".py",
   "mimetype": "text/x-python",
   "name": "python",
   "nbconvert_exporter": "python",
   "pygments_lexer": "ipython3",
   "version": "3.8.3"
  }
 },
 "nbformat": 4,
 "nbformat_minor": 4
}
