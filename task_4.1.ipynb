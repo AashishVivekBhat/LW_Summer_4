{
 "cells": [
  {
   "cell_type": "code",
   "execution_count": null,
   "metadata": {},
   "outputs": [],
   "source": [
    "# TASK_4.1 IMAGE_CREATION"
   ]
  },
  {
   "cell_type": "code",
   "execution_count": 67,
   "metadata": {},
   "outputs": [],
   "source": [
    "import numpy as np                          \n",
    "import cv2\n",
    "img = np.zeros((1000,1000,3),np.uint8)\n",
    "img = cv2.circle(img,(800,450),150,(0,255,255),-1) \n",
    "img = cv2.circle(img,(760,410),20,(0,0,0),-1)\n",
    "img = cv2.circle(img,(840,410),20,(0,0,0),-1) \n",
    "img = cv2.circle(img,(800,500),20,(0,0,0),-1) \n",
    "img = cv2.circle(img,(800,510),20,(0,255,255),-1)\n",
    "cv2.imshow(\"emoji\",img)\n",
    "cv2.waitKey(3000)\n",
    "cv2.destroyAllWindows()"
   ]
  }
 ],
 "metadata": {
  "kernelspec": {
   "display_name": "Python 3",
   "language": "python",
   "name": "python3"
  },
  "language_info": {
   "codemirror_mode": {
    "name": "ipython",
    "version": 3
   },
   "file_extension": ".py",
   "mimetype": "text/x-python",
   "name": "python",
   "nbconvert_exporter": "python",
   "pygments_lexer": "ipython3",
   "version": "3.8.3"
  }
 },
 "nbformat": 4,
 "nbformat_minor": 4
}
